{
  "nbformat": 4,
  "nbformat_minor": 0,
  "metadata": {
    "colab": {
      "provenance": []
    },
    "kernelspec": {
      "name": "python3",
      "display_name": "Python 3"
    },
    "language_info": {
      "name": "python"
    }
  },
  "cells": [
    {
      "cell_type": "markdown",
      "source": [
        "Setup for getting data from Kaggle via API\n"
      ],
      "metadata": {
        "id": "1E1IVqr9W4Zt"
      }
    },
    {
      "cell_type": "code",
      "execution_count": 1,
      "metadata": {
        "colab": {
          "base_uri": "https://localhost:8080/"
        },
        "id": "h-CrqFhEFgKW",
        "outputId": "01270e43-330f-453d-cd7b-24e75664ae52"
      },
      "outputs": [
        {
          "output_type": "stream",
          "name": "stdout",
          "text": [
            "Requirement already satisfied: kaggle in /usr/local/lib/python3.10/dist-packages (1.6.17)\n",
            "Requirement already satisfied: six>=1.10 in /usr/local/lib/python3.10/dist-packages (from kaggle) (1.16.0)\n",
            "Requirement already satisfied: certifi>=2023.7.22 in /usr/local/lib/python3.10/dist-packages (from kaggle) (2024.8.30)\n",
            "Requirement already satisfied: python-dateutil in /usr/local/lib/python3.10/dist-packages (from kaggle) (2.8.2)\n",
            "Requirement already satisfied: requests in /usr/local/lib/python3.10/dist-packages (from kaggle) (2.32.3)\n",
            "Requirement already satisfied: tqdm in /usr/local/lib/python3.10/dist-packages (from kaggle) (4.66.6)\n",
            "Requirement already satisfied: python-slugify in /usr/local/lib/python3.10/dist-packages (from kaggle) (8.0.4)\n",
            "Requirement already satisfied: urllib3 in /usr/local/lib/python3.10/dist-packages (from kaggle) (2.2.3)\n",
            "Requirement already satisfied: bleach in /usr/local/lib/python3.10/dist-packages (from kaggle) (6.2.0)\n",
            "Requirement already satisfied: webencodings in /usr/local/lib/python3.10/dist-packages (from bleach->kaggle) (0.5.1)\n",
            "Requirement already satisfied: text-unidecode>=1.3 in /usr/local/lib/python3.10/dist-packages (from python-slugify->kaggle) (1.3)\n",
            "Requirement already satisfied: charset-normalizer<4,>=2 in /usr/local/lib/python3.10/dist-packages (from requests->kaggle) (3.4.0)\n",
            "Requirement already satisfied: idna<4,>=2.5 in /usr/local/lib/python3.10/dist-packages (from requests->kaggle) (3.10)\n",
            "Mounted at /content/drive\n",
            "Dataset URL: https://www.kaggle.com/datasets/yelp-dataset/yelp-dataset\n",
            "License(s): other\n",
            "Downloading yelp_academic_dataset_review.json.zip to /content\n",
            " 99% 2.05G/2.07G [00:20<00:00, 137MB/s]\n",
            "100% 2.07G/2.07G [00:20<00:00, 107MB/s]\n",
            "Archive:  /content/yelp_academic_dataset_review.json.zip\n",
            "  inflating: yelp_academic_dataset_review.json  \n"
          ]
        }
      ],
      "source": [
        "!pip install kaggle\n",
        "\n",
        "from google.colab import drive\n",
        "drive.mount('/content/drive')\n",
        "\n",
        "! mkdir ~/.kaggle/\n",
        "\n",
        "! cp /content/drive/MyDrive/kaggle/kaggle.json ~/.kaggle/\n",
        "\n",
        "! chmod 600 ~/.kaggle/kaggle.json\n",
        "\n",
        "! kaggle datasets download yelp-dataset/yelp-dataset -f yelp_academic_dataset_review.json\n",
        "\n",
        "!unzip /content/yelp_academic_dataset_review.json.zip"
      ]
    },
    {
      "cell_type": "markdown",
      "source": [
        "Import necessary libraries for Spark session, DataFrame operations, ALS model, evaluation, and hyperparameter tuning.\n"
      ],
      "metadata": {
        "id": "G6NWJr_y6EH6"
      }
    },
    {
      "cell_type": "code",
      "source": [
        "from pyspark.sql import SparkSession\n",
        "from pyspark.sql.functions import col, expr, rank, countDistinct, count\n",
        "from pyspark.sql.window import Window\n",
        "from pyspark.ml.recommendation import ALS\n",
        "from pyspark.ml.evaluation import RegressionEvaluator\n",
        "from pyspark.ml.feature import StringIndexer\n",
        "from pyspark.ml.tuning import TrainValidationSplit, ParamGridBuilder, CrossValidator\n",
        "from pyspark.mllib.evaluation import RankingMetrics\n",
        "from pyspark.sql.functions import col, collect_list"
      ],
      "metadata": {
        "id": "39JPTeMAILLh"
      },
      "execution_count": 2,
      "outputs": []
    },
    {
      "cell_type": "code",
      "source": [
        "spark = SparkSession.builder.appName('TasteMatch').config(\"spark.driver.memory\", \"20g\").getOrCreate()\n",
        "df = spark.read.json(\"/content/yelp_academic_dataset_review.json\")\n",
        "\n",
        "# Select columns of interest\n",
        "df = df.select(\"business_id\", \"user_id\", \"stars\")"
      ],
      "metadata": {
        "id": "-Hbo-RCULbqP",
        "collapsed": true
      },
      "execution_count": 3,
      "outputs": []
    },
    {
      "cell_type": "code",
      "source": [
        "# Select only the top 80 restaurants\n",
        "popularity_restaurants = df.groupBy('business_id') \\\n",
        "                 .agg(count('*').alias('popularity')) \\\n",
        "                 .orderBy(col('popularity').desc())\n",
        "top_restaurants = popularity_restaurants.limit(80)\n",
        "df = df.join(top_restaurants, on='business_id', how='inner')"
      ],
      "metadata": {
        "id": "0WpU6-YwOkVT"
      },
      "execution_count": 4,
      "outputs": []
    },
    {
      "cell_type": "code",
      "source": [
        "# Select users who have rated atleast 5 restaurants - Avoid cold start problem\n",
        "df = df.withColumn(\"num_ratings\", expr(\"count(*) over (partition by user_id)\"))\n",
        "df = df.filter(col(\"num_ratings\")>=5)"
      ],
      "metadata": {
        "id": "_L1gmMnXuD_S"
      },
      "execution_count": 5,
      "outputs": []
    },
    {
      "cell_type": "markdown",
      "source": [
        "Prepare train and test data.\n",
        "\n",
        "1. For each user, mask 30% of their ratings to be evaluated as test set.\n",
        "2. Encode the user_id and business_id columns with StringIndexer into numerical indices."
      ],
      "metadata": {
        "id": "N-JxEAeU8sZO"
      }
    },
    {
      "cell_type": "code",
      "source": [
        "mask_percentage = 0.3\n",
        "\n",
        "# For each user, select 30% of ratings for test set and the remaining for train set\n",
        "user_window = Window.partitionBy(\"user_id\").orderBy(col(\"business_id\").desc())\n",
        "df = df.withColumn(\"num_items_to_mask\", (col(\"num_ratings\") * mask_percentage).cast(\"int\"))\n",
        "df = df.withColumn(\"item_rank\", rank().over(user_window))\n",
        "\n",
        "# Create indexing models for user_id and business_id, and apply transformation\n",
        "indexer_user = StringIndexer(inputCol='user_id', outputCol='userIndex').setHandleInvalid(\"keep\")\n",
        "indexer_biz = StringIndexer(inputCol='business_id', outputCol='bizIndex').setHandleInvalid(\"keep\")\n",
        "df = indexer_user.fit(df).transform(df)\n",
        "df = indexer_biz.fit(df).transform(df)\n",
        "\n",
        "df = df.withColumn('userIndex', df['userIndex'].cast('integer')).withColumn('bizIndex', df['bizIndex'].cast('integer'))\n",
        "\n",
        "train_df = df.filter(col(\"item_rank\") > col(\"num_items_to_mask\"))\n",
        "test_df = df.filter(col(\"item_rank\") <= col(\"num_items_to_mask\"))"
      ],
      "metadata": {
        "id": "0wvQtAqfvB6o"
      },
      "execution_count": 6,
      "outputs": []
    },
    {
      "cell_type": "code",
      "source": [
        "# Optimal parameters calculated based on parameter search\n",
        "best_rank = 1\n",
        "best_maxIter = 20\n",
        "best_regParam = 0.05\n",
        "\n",
        "als = ALS(userCol='userIndex', itemCol='bizIndex', ratingCol='stars',\n",
        "          coldStartStrategy='drop', nonnegative=True,\n",
        "          rank=best_rank, maxIter=best_maxIter, regParam=best_regParam)\n",
        "\n",
        "# Fit the model to the training data\n",
        "model = als.fit(train_df)"
      ],
      "metadata": {
        "id": "Etja_vDqvgFH"
      },
      "execution_count": 7,
      "outputs": []
    },
    {
      "cell_type": "code",
      "source": [
        "# Generate predictions on the test data\n",
        "predictions = model.transform(test_df)\n",
        "predictions = predictions.withColumn(\"prediction\", expr(\"CASE WHEN prediction < 1 THEN 1 WHEN prediction > 5 THEN 5 ELSE prediction END\"))\n",
        "\n",
        "evaluator = RegressionEvaluator(metricName='rmse', labelCol='stars', predictionCol='prediction')\n",
        "rmse = evaluator.evaluate(predictions)\n",
        "print(f'Root Mean Squared Error (RMSE): {rmse}')"
      ],
      "metadata": {
        "id": "imBwL6IEvkfF",
        "colab": {
          "base_uri": "https://localhost:8080/"
        },
        "outputId": "532e28fd-28d8-4ea4-8a8a-a2adc1f699fb"
      },
      "execution_count": 8,
      "outputs": [
        {
          "output_type": "stream",
          "name": "stdout",
          "text": [
            "Root Mean Squared Error (RMSE): 1.0005418885851705\n"
          ]
        }
      ]
    },
    {
      "cell_type": "code",
      "source": [
        "# Generate restaurant recommendations\n",
        "n_recommend = 5\n",
        "userRecs = model.recommendForAllUsers(n_recommend)\n",
        "\n",
        "# Evaluate quality of recommendations by side-by-side comparison\n",
        "ground_truth = test_df.groupby('userIndex').agg(collect_list('bizIndex').alias('ground_truth_items'))\n",
        "model_pred = train_df.groupby('userIndex').agg(collect_list('bizIndex').alias('model_pred'))\n",
        "user_eval = userRecs.join(ground_truth, on='userIndex').join(model_pred, on='userIndex') \\\n",
        "          .select('userIndex', 'recommendations.bizIndex', 'ground_truth_items', 'model_pred', 'recommendations.rating')\n",
        "user_eval = user_eval.toPandas()\n",
        "user_eval['Recommendations'] = user_eval.apply(lambda x:[b for (b,z) in zip(x.bizIndex, x.rating) if b not in x.model_pred], axis=1)\n",
        "user_eval['Predicted Ratings'] = user_eval.apply(lambda x:[z for (b,z) in zip(x.bizIndex, x.rating) if b not in x.model_pred], axis=1)"
      ],
      "metadata": {
        "id": "rxI4G2rkvn03"
      },
      "execution_count": 9,
      "outputs": []
    },
    {
      "cell_type": "code",
      "source": [
        "user_eval.head()"
      ],
      "metadata": {
        "id": "9pO64KeTUEme",
        "colab": {
          "base_uri": "https://localhost:8080/",
          "height": 293
        },
        "outputId": "33e5c734-f0d3-4434-9648-3dfe6c9080f5"
      },
      "execution_count": 10,
      "outputs": [
        {
          "output_type": "execute_result",
          "data": {
            "text/plain": [
              "   userIndex             bizIndex                         ground_truth_items  \\\n",
              "0          0  [69, 9, 43, 79, 47]      [38, 41, 23, 23, 52, 31, 49, 6, 6, 4]   \n",
              "1          1  [69, 9, 43, 79, 47]         [38, 41, 23, 49, 6, 48, 4, 50, 13]   \n",
              "2          2  [69, 9, 43, 79, 47]         [1, 41, 56, 52, 19, 31, 48, 4, 53]   \n",
              "3          3  [69, 9, 43, 79, 47]  [41, 31, 67, 48, 48, 4, 4, 2, 32, 32, 32]   \n",
              "4          4  [69, 9, 43, 79, 47]            [38, 41, 31, 31, 49, 49, 48, 4]   \n",
              "\n",
              "                                          model_pred  \\\n",
              "0  [13, 0, 2, 32, 39, 15, 11, 20, 57, 29, 29, 29,...   \n",
              "1  [0, 2, 2, 2, 33, 32, 39, 39, 39, 11, 20, 29, 6...   \n",
              "2  [9, 2, 33, 39, 11, 29, 21, 60, 58, 54, 22, 24,...   \n",
              "3  [11, 29, 29, 29, 29, 29, 29, 45, 10, 54, 3, 3,...   \n",
              "4  [2, 33, 32, 29, 29, 29, 29, 45, 3, 3, 3, 37, 3...   \n",
              "\n",
              "                                              rating      Recommendations  \\\n",
              "0  [3.514249324798584, 3.4588253498077393, 3.3888...          [69, 9, 79]   \n",
              "1  [3.78212571144104, 3.7224769592285156, 3.64714...          [69, 9, 79]   \n",
              "2  [4.493710994720459, 4.422839641571045, 4.33334...         [69, 43, 79]   \n",
              "3  [3.7492284774780273, 3.690098762512207, 3.6154...  [69, 9, 43, 79, 47]   \n",
              "4  [4.140809535980225, 4.075503826141357, 3.99303...          [69, 9, 79]   \n",
              "\n",
              "                                   Predicted Ratings  \n",
              "0  [3.514249324798584, 3.4588253498077393, 3.3838...  \n",
              "1  [3.78212571144104, 3.7224769592285156, 3.64179...  \n",
              "2  [4.493710994720459, 4.333340167999268, 4.32698...  \n",
              "3  [3.7492284774780273, 3.690098762512207, 3.6154...  \n",
              "4  [4.140809535980225, 4.075503826141357, 3.98717...  "
            ],
            "text/html": [
              "\n",
              "  <div id=\"df-dcb45fb8-0eea-4b3e-b03f-bde18dfd4468\" class=\"colab-df-container\">\n",
              "    <div>\n",
              "<style scoped>\n",
              "    .dataframe tbody tr th:only-of-type {\n",
              "        vertical-align: middle;\n",
              "    }\n",
              "\n",
              "    .dataframe tbody tr th {\n",
              "        vertical-align: top;\n",
              "    }\n",
              "\n",
              "    .dataframe thead th {\n",
              "        text-align: right;\n",
              "    }\n",
              "</style>\n",
              "<table border=\"1\" class=\"dataframe\">\n",
              "  <thead>\n",
              "    <tr style=\"text-align: right;\">\n",
              "      <th></th>\n",
              "      <th>userIndex</th>\n",
              "      <th>bizIndex</th>\n",
              "      <th>ground_truth_items</th>\n",
              "      <th>model_pred</th>\n",
              "      <th>rating</th>\n",
              "      <th>Recommendations</th>\n",
              "      <th>Predicted Ratings</th>\n",
              "    </tr>\n",
              "  </thead>\n",
              "  <tbody>\n",
              "    <tr>\n",
              "      <th>0</th>\n",
              "      <td>0</td>\n",
              "      <td>[69, 9, 43, 79, 47]</td>\n",
              "      <td>[38, 41, 23, 23, 52, 31, 49, 6, 6, 4]</td>\n",
              "      <td>[13, 0, 2, 32, 39, 15, 11, 20, 57, 29, 29, 29,...</td>\n",
              "      <td>[3.514249324798584, 3.4588253498077393, 3.3888...</td>\n",
              "      <td>[69, 9, 79]</td>\n",
              "      <td>[3.514249324798584, 3.4588253498077393, 3.3838...</td>\n",
              "    </tr>\n",
              "    <tr>\n",
              "      <th>1</th>\n",
              "      <td>1</td>\n",
              "      <td>[69, 9, 43, 79, 47]</td>\n",
              "      <td>[38, 41, 23, 49, 6, 48, 4, 50, 13]</td>\n",
              "      <td>[0, 2, 2, 2, 33, 32, 39, 39, 39, 11, 20, 29, 6...</td>\n",
              "      <td>[3.78212571144104, 3.7224769592285156, 3.64714...</td>\n",
              "      <td>[69, 9, 79]</td>\n",
              "      <td>[3.78212571144104, 3.7224769592285156, 3.64179...</td>\n",
              "    </tr>\n",
              "    <tr>\n",
              "      <th>2</th>\n",
              "      <td>2</td>\n",
              "      <td>[69, 9, 43, 79, 47]</td>\n",
              "      <td>[1, 41, 56, 52, 19, 31, 48, 4, 53]</td>\n",
              "      <td>[9, 2, 33, 39, 11, 29, 21, 60, 58, 54, 22, 24,...</td>\n",
              "      <td>[4.493710994720459, 4.422839641571045, 4.33334...</td>\n",
              "      <td>[69, 43, 79]</td>\n",
              "      <td>[4.493710994720459, 4.333340167999268, 4.32698...</td>\n",
              "    </tr>\n",
              "    <tr>\n",
              "      <th>3</th>\n",
              "      <td>3</td>\n",
              "      <td>[69, 9, 43, 79, 47]</td>\n",
              "      <td>[41, 31, 67, 48, 48, 4, 4, 2, 32, 32, 32]</td>\n",
              "      <td>[11, 29, 29, 29, 29, 29, 29, 45, 10, 54, 3, 3,...</td>\n",
              "      <td>[3.7492284774780273, 3.690098762512207, 3.6154...</td>\n",
              "      <td>[69, 9, 43, 79, 47]</td>\n",
              "      <td>[3.7492284774780273, 3.690098762512207, 3.6154...</td>\n",
              "    </tr>\n",
              "    <tr>\n",
              "      <th>4</th>\n",
              "      <td>4</td>\n",
              "      <td>[69, 9, 43, 79, 47]</td>\n",
              "      <td>[38, 41, 31, 31, 49, 49, 48, 4]</td>\n",
              "      <td>[2, 33, 32, 29, 29, 29, 29, 45, 3, 3, 3, 37, 3...</td>\n",
              "      <td>[4.140809535980225, 4.075503826141357, 3.99303...</td>\n",
              "      <td>[69, 9, 79]</td>\n",
              "      <td>[4.140809535980225, 4.075503826141357, 3.98717...</td>\n",
              "    </tr>\n",
              "  </tbody>\n",
              "</table>\n",
              "</div>\n",
              "    <div class=\"colab-df-buttons\">\n",
              "\n",
              "  <div class=\"colab-df-container\">\n",
              "    <button class=\"colab-df-convert\" onclick=\"convertToInteractive('df-dcb45fb8-0eea-4b3e-b03f-bde18dfd4468')\"\n",
              "            title=\"Convert this dataframe to an interactive table.\"\n",
              "            style=\"display:none;\">\n",
              "\n",
              "  <svg xmlns=\"http://www.w3.org/2000/svg\" height=\"24px\" viewBox=\"0 -960 960 960\">\n",
              "    <path d=\"M120-120v-720h720v720H120Zm60-500h600v-160H180v160Zm220 220h160v-160H400v160Zm0 220h160v-160H400v160ZM180-400h160v-160H180v160Zm440 0h160v-160H620v160ZM180-180h160v-160H180v160Zm440 0h160v-160H620v160Z\"/>\n",
              "  </svg>\n",
              "    </button>\n",
              "\n",
              "  <style>\n",
              "    .colab-df-container {\n",
              "      display:flex;\n",
              "      gap: 12px;\n",
              "    }\n",
              "\n",
              "    .colab-df-convert {\n",
              "      background-color: #E8F0FE;\n",
              "      border: none;\n",
              "      border-radius: 50%;\n",
              "      cursor: pointer;\n",
              "      display: none;\n",
              "      fill: #1967D2;\n",
              "      height: 32px;\n",
              "      padding: 0 0 0 0;\n",
              "      width: 32px;\n",
              "    }\n",
              "\n",
              "    .colab-df-convert:hover {\n",
              "      background-color: #E2EBFA;\n",
              "      box-shadow: 0px 1px 2px rgba(60, 64, 67, 0.3), 0px 1px 3px 1px rgba(60, 64, 67, 0.15);\n",
              "      fill: #174EA6;\n",
              "    }\n",
              "\n",
              "    .colab-df-buttons div {\n",
              "      margin-bottom: 4px;\n",
              "    }\n",
              "\n",
              "    [theme=dark] .colab-df-convert {\n",
              "      background-color: #3B4455;\n",
              "      fill: #D2E3FC;\n",
              "    }\n",
              "\n",
              "    [theme=dark] .colab-df-convert:hover {\n",
              "      background-color: #434B5C;\n",
              "      box-shadow: 0px 1px 3px 1px rgba(0, 0, 0, 0.15);\n",
              "      filter: drop-shadow(0px 1px 2px rgba(0, 0, 0, 0.3));\n",
              "      fill: #FFFFFF;\n",
              "    }\n",
              "  </style>\n",
              "\n",
              "    <script>\n",
              "      const buttonEl =\n",
              "        document.querySelector('#df-dcb45fb8-0eea-4b3e-b03f-bde18dfd4468 button.colab-df-convert');\n",
              "      buttonEl.style.display =\n",
              "        google.colab.kernel.accessAllowed ? 'block' : 'none';\n",
              "\n",
              "      async function convertToInteractive(key) {\n",
              "        const element = document.querySelector('#df-dcb45fb8-0eea-4b3e-b03f-bde18dfd4468');\n",
              "        const dataTable =\n",
              "          await google.colab.kernel.invokeFunction('convertToInteractive',\n",
              "                                                    [key], {});\n",
              "        if (!dataTable) return;\n",
              "\n",
              "        const docLinkHtml = 'Like what you see? Visit the ' +\n",
              "          '<a target=\"_blank\" href=https://colab.research.google.com/notebooks/data_table.ipynb>data table notebook</a>'\n",
              "          + ' to learn more about interactive tables.';\n",
              "        element.innerHTML = '';\n",
              "        dataTable['output_type'] = 'display_data';\n",
              "        await google.colab.output.renderOutput(dataTable, element);\n",
              "        const docLink = document.createElement('div');\n",
              "        docLink.innerHTML = docLinkHtml;\n",
              "        element.appendChild(docLink);\n",
              "      }\n",
              "    </script>\n",
              "  </div>\n",
              "\n",
              "\n",
              "<div id=\"df-79d75825-8d08-4ad0-9135-306ceae0f1c5\">\n",
              "  <button class=\"colab-df-quickchart\" onclick=\"quickchart('df-79d75825-8d08-4ad0-9135-306ceae0f1c5')\"\n",
              "            title=\"Suggest charts\"\n",
              "            style=\"display:none;\">\n",
              "\n",
              "<svg xmlns=\"http://www.w3.org/2000/svg\" height=\"24px\"viewBox=\"0 0 24 24\"\n",
              "     width=\"24px\">\n",
              "    <g>\n",
              "        <path d=\"M19 3H5c-1.1 0-2 .9-2 2v14c0 1.1.9 2 2 2h14c1.1 0 2-.9 2-2V5c0-1.1-.9-2-2-2zM9 17H7v-7h2v7zm4 0h-2V7h2v10zm4 0h-2v-4h2v4z\"/>\n",
              "    </g>\n",
              "</svg>\n",
              "  </button>\n",
              "\n",
              "<style>\n",
              "  .colab-df-quickchart {\n",
              "      --bg-color: #E8F0FE;\n",
              "      --fill-color: #1967D2;\n",
              "      --hover-bg-color: #E2EBFA;\n",
              "      --hover-fill-color: #174EA6;\n",
              "      --disabled-fill-color: #AAA;\n",
              "      --disabled-bg-color: #DDD;\n",
              "  }\n",
              "\n",
              "  [theme=dark] .colab-df-quickchart {\n",
              "      --bg-color: #3B4455;\n",
              "      --fill-color: #D2E3FC;\n",
              "      --hover-bg-color: #434B5C;\n",
              "      --hover-fill-color: #FFFFFF;\n",
              "      --disabled-bg-color: #3B4455;\n",
              "      --disabled-fill-color: #666;\n",
              "  }\n",
              "\n",
              "  .colab-df-quickchart {\n",
              "    background-color: var(--bg-color);\n",
              "    border: none;\n",
              "    border-radius: 50%;\n",
              "    cursor: pointer;\n",
              "    display: none;\n",
              "    fill: var(--fill-color);\n",
              "    height: 32px;\n",
              "    padding: 0;\n",
              "    width: 32px;\n",
              "  }\n",
              "\n",
              "  .colab-df-quickchart:hover {\n",
              "    background-color: var(--hover-bg-color);\n",
              "    box-shadow: 0 1px 2px rgba(60, 64, 67, 0.3), 0 1px 3px 1px rgba(60, 64, 67, 0.15);\n",
              "    fill: var(--button-hover-fill-color);\n",
              "  }\n",
              "\n",
              "  .colab-df-quickchart-complete:disabled,\n",
              "  .colab-df-quickchart-complete:disabled:hover {\n",
              "    background-color: var(--disabled-bg-color);\n",
              "    fill: var(--disabled-fill-color);\n",
              "    box-shadow: none;\n",
              "  }\n",
              "\n",
              "  .colab-df-spinner {\n",
              "    border: 2px solid var(--fill-color);\n",
              "    border-color: transparent;\n",
              "    border-bottom-color: var(--fill-color);\n",
              "    animation:\n",
              "      spin 1s steps(1) infinite;\n",
              "  }\n",
              "\n",
              "  @keyframes spin {\n",
              "    0% {\n",
              "      border-color: transparent;\n",
              "      border-bottom-color: var(--fill-color);\n",
              "      border-left-color: var(--fill-color);\n",
              "    }\n",
              "    20% {\n",
              "      border-color: transparent;\n",
              "      border-left-color: var(--fill-color);\n",
              "      border-top-color: var(--fill-color);\n",
              "    }\n",
              "    30% {\n",
              "      border-color: transparent;\n",
              "      border-left-color: var(--fill-color);\n",
              "      border-top-color: var(--fill-color);\n",
              "      border-right-color: var(--fill-color);\n",
              "    }\n",
              "    40% {\n",
              "      border-color: transparent;\n",
              "      border-right-color: var(--fill-color);\n",
              "      border-top-color: var(--fill-color);\n",
              "    }\n",
              "    60% {\n",
              "      border-color: transparent;\n",
              "      border-right-color: var(--fill-color);\n",
              "    }\n",
              "    80% {\n",
              "      border-color: transparent;\n",
              "      border-right-color: var(--fill-color);\n",
              "      border-bottom-color: var(--fill-color);\n",
              "    }\n",
              "    90% {\n",
              "      border-color: transparent;\n",
              "      border-bottom-color: var(--fill-color);\n",
              "    }\n",
              "  }\n",
              "</style>\n",
              "\n",
              "  <script>\n",
              "    async function quickchart(key) {\n",
              "      const quickchartButtonEl =\n",
              "        document.querySelector('#' + key + ' button');\n",
              "      quickchartButtonEl.disabled = true;  // To prevent multiple clicks.\n",
              "      quickchartButtonEl.classList.add('colab-df-spinner');\n",
              "      try {\n",
              "        const charts = await google.colab.kernel.invokeFunction(\n",
              "            'suggestCharts', [key], {});\n",
              "      } catch (error) {\n",
              "        console.error('Error during call to suggestCharts:', error);\n",
              "      }\n",
              "      quickchartButtonEl.classList.remove('colab-df-spinner');\n",
              "      quickchartButtonEl.classList.add('colab-df-quickchart-complete');\n",
              "    }\n",
              "    (() => {\n",
              "      let quickchartButtonEl =\n",
              "        document.querySelector('#df-79d75825-8d08-4ad0-9135-306ceae0f1c5 button');\n",
              "      quickchartButtonEl.style.display =\n",
              "        google.colab.kernel.accessAllowed ? 'block' : 'none';\n",
              "    })();\n",
              "  </script>\n",
              "</div>\n",
              "\n",
              "    </div>\n",
              "  </div>\n"
            ],
            "application/vnd.google.colaboratory.intrinsic+json": {
              "type": "dataframe",
              "variable_name": "user_eval",
              "summary": "{\n  \"name\": \"user_eval\",\n  \"rows\": 3916,\n  \"fields\": [\n    {\n      \"column\": \"userIndex\",\n      \"properties\": {\n        \"dtype\": \"int32\",\n        \"num_unique_values\": 3916,\n        \"samples\": [\n          271,\n          1979,\n          806\n        ],\n        \"semantic_type\": \"\",\n        \"description\": \"\"\n      }\n    },\n    {\n      \"column\": \"bizIndex\",\n      \"properties\": {\n        \"dtype\": \"object\",\n        \"semantic_type\": \"\",\n        \"description\": \"\"\n      }\n    },\n    {\n      \"column\": \"ground_truth_items\",\n      \"properties\": {\n        \"dtype\": \"object\",\n        \"semantic_type\": \"\",\n        \"description\": \"\"\n      }\n    },\n    {\n      \"column\": \"model_pred\",\n      \"properties\": {\n        \"dtype\": \"object\",\n        \"semantic_type\": \"\",\n        \"description\": \"\"\n      }\n    },\n    {\n      \"column\": \"rating\",\n      \"properties\": {\n        \"dtype\": \"object\",\n        \"semantic_type\": \"\",\n        \"description\": \"\"\n      }\n    },\n    {\n      \"column\": \"Recommendations\",\n      \"properties\": {\n        \"dtype\": \"object\",\n        \"semantic_type\": \"\",\n        \"description\": \"\"\n      }\n    },\n    {\n      \"column\": \"Predicted Ratings\",\n      \"properties\": {\n        \"dtype\": \"object\",\n        \"semantic_type\": \"\",\n        \"description\": \"\"\n      }\n    }\n  ]\n}"
            }
          },
          "metadata": {},
          "execution_count": 10
        }
      ]
    },
    {
      "cell_type": "code",
      "source": [],
      "metadata": {
        "id": "Crw1UvcQpxoN"
      },
      "execution_count": null,
      "outputs": []
    }
  ]
}